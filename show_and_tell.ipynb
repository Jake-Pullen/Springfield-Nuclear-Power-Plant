{
 "cells": [
  {
   "cell_type": "code",
   "execution_count": null,
   "id": "8471f3eb",
   "metadata": {},
   "outputs": [],
   "source": [
    "import pandas as pd\n",
    "pd.options.mode.copy_on_write = True "
   ]
  },
  {
   "cell_type": "markdown",
   "id": "e3376884",
   "metadata": {},
   "source": [
    "# Phase 1: Data Discovery"
   ]
  },
  {
   "cell_type": "code",
   "execution_count": null,
   "id": "2fe48029",
   "metadata": {},
   "outputs": [],
   "source": [
    "raw = pd.read_csv(\"springfield_azure_resources.csv\")"
   ]
  },
  {
   "cell_type": "code",
   "execution_count": null,
   "id": "eeb5ac52",
   "metadata": {},
   "outputs": [],
   "source": [
    "raw.head()"
   ]
  },
  {
   "cell_type": "code",
   "execution_count": null,
   "id": "c993f5f3",
   "metadata": {},
   "outputs": [],
   "source": [
    "columns = ['resource_name', 'resource_type', 'location', 'owner', 'environment', 'subscription_id', 'resource_group_name', 'resource_id', 'sku','migration_wave']\n",
    "\n",
    "data_we_care_about = raw[columns]"
   ]
  },
  {
   "cell_type": "code",
   "execution_count": null,
   "id": "8bf59123",
   "metadata": {},
   "outputs": [],
   "source": [
    "data_we_care_about.head(10)"
   ]
  },
  {
   "cell_type": "code",
   "execution_count": null,
   "id": "3923107e",
   "metadata": {},
   "outputs": [],
   "source": [
    "data_we_care_about.describe()"
   ]
  },
  {
   "cell_type": "markdown",
   "id": "07af4377",
   "metadata": {},
   "source": [
    "# Phase 2: Data Cleansing"
   ]
  },
  {
   "cell_type": "markdown",
   "id": "46ebd9c6",
   "metadata": {},
   "source": [
    "## Evaluate Owners"
   ]
  },
  {
   "cell_type": "code",
   "execution_count": null,
   "id": "7eb51842",
   "metadata": {},
   "outputs": [],
   "source": [
    "data_we_care_about['owner'].value_counts()"
   ]
  },
  {
   "cell_type": "markdown",
   "id": "caf6295f",
   "metadata": {},
   "source": [
    "## Check environments"
   ]
  },
  {
   "cell_type": "code",
   "execution_count": null,
   "id": "49528610",
   "metadata": {},
   "outputs": [],
   "source": [
    "data_we_care_about['environment'].value_counts()"
   ]
  },
  {
   "cell_type": "markdown",
   "id": "21361d98",
   "metadata": {},
   "source": [
    "## Environment Cleaning"
   ]
  },
  {
   "cell_type": "code",
   "execution_count": null,
   "id": "b8e85fcb",
   "metadata": {},
   "outputs": [],
   "source": [
    "environment_map = {\n",
    "#   'from':'to'\n",
    "    'pro':'production',\n",
    "    'tes':'test',\n",
    "    'sta':'staging',\n",
    "    'dev':'development',\n",
    "    'uat':'test',\n",
    "    'qa':'test'\n",
    "}\n",
    "\n",
    "data_we_care_about['environment'] = (\n",
    "    data_we_care_about['environment']\n",
    "    .apply(lambda environment_name: environment_name.lower().strip()[:3])\n",
    "    .apply(lambda environment_name: environment_map\n",
    "        .get(environment_name, 'other')\n",
    "    )\n",
    ")\n",
    "\n",
    "filtered_environments = data_we_care_about.loc[data_we_care_about['environment'].isin(['development', 'production', 'test'])]\n",
    "\n",
    "\n",
    "filtered_environments['environment'].value_counts()"
   ]
  },
  {
   "cell_type": "code",
   "execution_count": null,
   "id": "31191e6c",
   "metadata": {},
   "outputs": [],
   "source": [
    "filtered_environments.head()"
   ]
  },
  {
   "cell_type": "markdown",
   "id": "88fd15f0",
   "metadata": {},
   "source": [
    "## Check Locations"
   ]
  },
  {
   "cell_type": "code",
   "execution_count": null,
   "id": "770b2aee",
   "metadata": {},
   "outputs": [],
   "source": [
    "filtered_environments['location'].value_counts()"
   ]
  },
  {
   "cell_type": "markdown",
   "id": "da7fbec5",
   "metadata": {},
   "source": [
    "## Location Cleaning"
   ]
  },
  {
   "cell_type": "code",
   "execution_count": null,
   "id": "9cd706c6",
   "metadata": {},
   "outputs": [],
   "source": [
    "filtered_environments['location'] = (\n",
    "    filtered_environments['location']\n",
    "    .apply(lambda location_name: location_name.lower()\n",
    "            .strip()\n",
    "            .replace(\" \", \"\")\n",
    "            .replace(\"-\", \"\"))\n",
    ")\n",
    "\n",
    "filtered_environments['location'].value_counts()"
   ]
  },
  {
   "cell_type": "markdown",
   "id": "23449a96",
   "metadata": {},
   "source": [
    "## Wrangle migration wave"
   ]
  },
  {
   "cell_type": "code",
   "execution_count": null,
   "id": "f2f127b7",
   "metadata": {},
   "outputs": [],
   "source": [
    "filtered_environments['migration_wave'].value_counts()"
   ]
  },
  {
   "cell_type": "code",
   "execution_count": null,
   "id": "539dabf0",
   "metadata": {},
   "outputs": [],
   "source": [
    "filtered_environments['migration_wave'] = (\n",
    "    filtered_environments['migration_wave']\n",
    "    .apply(lambda migration_wave: \n",
    "        migration_wave.lower()\n",
    "        .replace(\" \", \"\")\n",
    "        .replace(\"wave\",\"\")\n",
    "    ).astype(int)\n",
    ")\n",
    "filtered_environments['migration_wave'].value_counts()"
   ]
  },
  {
   "cell_type": "markdown",
   "id": "426481e4",
   "metadata": {},
   "source": [
    "## Business Rule 1: All locations must be 'uksouth'"
   ]
  },
  {
   "cell_type": "code",
   "execution_count": null,
   "id": "5ca1b7ab",
   "metadata": {},
   "outputs": [],
   "source": [
    "filtered_environments['location'].value_counts()"
   ]
  },
  {
   "cell_type": "code",
   "execution_count": null,
   "id": "e0b615f4",
   "metadata": {},
   "outputs": [],
   "source": [
    "filtered_environments['location'] = 'uksouth'"
   ]
  },
  {
   "cell_type": "code",
   "execution_count": null,
   "id": "67126968",
   "metadata": {},
   "outputs": [],
   "source": [
    "filtered_environments['location'].value_counts()"
   ]
  },
  {
   "cell_type": "code",
   "execution_count": null,
   "id": "21fadf39",
   "metadata": {},
   "outputs": [],
   "source": [
    "clean_data = filtered_environments.copy(deep=True)"
   ]
  },
  {
   "cell_type": "markdown",
   "id": "d681d146",
   "metadata": {},
   "source": [
    "## Business Rule 2:"
   ]
  },
  {
   "cell_type": "markdown",
   "id": "71b98b66",
   "metadata": {},
   "source": [
    "### Data Discovery"
   ]
  },
  {
   "cell_type": "code",
   "execution_count": null,
   "id": "6bc87c1e",
   "metadata": {},
   "outputs": [],
   "source": [
    "pivot = (\n",
    "    clean_data\n",
    "    .groupby(['environment','owner'])\n",
    "    .size()\n",
    "    .unstack(fill_value=0)               # owners → columns, fill missing with zero\n",
    ")\n",
    "\n",
    "print(pivot)\n"
   ]
  },
  {
   "cell_type": "markdown",
   "id": "3030b306",
   "metadata": {},
   "source": [
    "### Implementation"
   ]
  },
  {
   "cell_type": "code",
   "execution_count": null,
   "id": "27523319",
   "metadata": {},
   "outputs": [],
   "source": [
    "owner_map = {\n",
    "    'Apu':'Marge',\n",
    "    'Milhouse':'Lisa',\n",
    "    'Ned':'Homer',\n",
    "    'Bart':'Homer'\n",
    "}\n",
    "\n",
    "clean_data['owner'] = (\n",
    "    clean_data['owner']\n",
    "    .apply(lambda owner: \n",
    "            owner_map.get(owner, owner)\n",
    "        )\n",
    "    )"
   ]
  },
  {
   "cell_type": "code",
   "execution_count": null,
   "id": "7e9173fc",
   "metadata": {},
   "outputs": [],
   "source": [
    "pivot = (\n",
    "    clean_data\n",
    "    .groupby(['environment','owner'])\n",
    "    .size()\n",
    "    .unstack(fill_value=0)               # owners → columns, fill missing with zero\n",
    ")\n",
    "\n",
    "print(pivot)\n"
   ]
  },
  {
   "cell_type": "code",
   "execution_count": null,
   "id": "c53b52b1",
   "metadata": {},
   "outputs": [],
   "source": [
    "clean_data.head()"
   ]
  },
  {
   "cell_type": "code",
   "execution_count": null,
   "id": "cabbda09",
   "metadata": {},
   "outputs": [],
   "source": [
    "from azure.identity import DefaultAzureCredential\n",
    "from azure.mgmt.resource import ResourceManagementClient\n",
    "from workshop.utilities import WorkshopUtilities\n"
   ]
  },
  {
   "cell_type": "code",
   "execution_count": null,
   "id": "57ae4d8a",
   "metadata": {},
   "outputs": [],
   "source": [
    "credential = DefaultAzureCredential()\n"
   ]
  },
  {
   "cell_type": "code",
   "execution_count": null,
   "id": "2ddbcf49",
   "metadata": {},
   "outputs": [],
   "source": [
    "credential"
   ]
  },
  {
   "cell_type": "code",
   "execution_count": null,
   "id": "6b661555",
   "metadata": {},
   "outputs": [],
   "source": [
    "access = credential.get_token()\n",
    "print(access.token)"
   ]
  },
  {
   "cell_type": "code",
   "execution_count": null,
   "id": "1f791e0e",
   "metadata": {},
   "outputs": [],
   "source": [
    "client = ResourceManagementClient(credential, \"springfield-sub-12345\")\n"
   ]
  },
  {
   "cell_type": "code",
   "execution_count": null,
   "id": "94886f1e",
   "metadata": {},
   "outputs": [],
   "source": [
    "dev_df = clean_data.iloc[0:20]"
   ]
  },
  {
   "cell_type": "code",
   "execution_count": null,
   "id": "0f748a0b",
   "metadata": {},
   "outputs": [],
   "source": [
    "dev_df.head()"
   ]
  },
  {
   "cell_type": "code",
   "execution_count": null,
   "id": "6a70b75a",
   "metadata": {},
   "outputs": [],
   "source": [
    "# Create resource groups first\n",
    "resource_groups = dev_df['resource_group_name'].unique()\n",
    "for rg_name in resource_groups:\n",
    "    try:\n",
    "        client.resource_groups.create_or_update(\n",
    "            rg_name,\n",
    "            {\"location\": \"uksouth\", \"tags\": {\"migration\": \"springfield\"}}\n",
    "        )\n",
    "        print(f\"✓ Created resource group: {rg_name}\")\n",
    "    except Exception as e:\n",
    "        print(f\"✗ Failed to create {rg_name}: {e}\")"
   ]
  },
  {
   "cell_type": "code",
   "execution_count": null,
   "id": "6d7d5765",
   "metadata": {},
   "outputs": [],
   "source": [
    "# Prepare resources for bulk creation\n",
    "resources_data = []\n",
    "for _, row in dev_df.iterrows():\n",
    "    resources_data.append({\n",
    "        'name': row['resource_name'],\n",
    "        'resource_type': row['resource_type'],\n",
    "        'resource_group': row['resource_group_name'],\n",
    "        'location': 'uksouth',  # Standardized location\n",
    "        'tags': {\n",
    "            'owner': row['owner'],\n",
    "            'environment': row['environment'],\n",
    "            'migration_wave': str(row['migration_wave'])\n",
    "        }\n",
    "    })\n",
    "\n",
    "# Bulk create resources\n",
    "print(f\"\\nCreating {len(resources_data)} resources...\")"
   ]
  },
  {
   "cell_type": "code",
   "execution_count": null,
   "id": "6eba9488",
   "metadata": {},
   "outputs": [],
   "source": [
    "for thing in resources_data:\n",
    "    print(thing)"
   ]
  },
  {
   "cell_type": "code",
   "execution_count": null,
   "id": "68387499",
   "metadata": {},
   "outputs": [],
   "source": [
    "\n",
    "def progress_callback(tracker):\n",
    "    print(f\"\\rProgress: {tracker.percentage:.1f}% ({tracker.completed} completed, {tracker.failed} failed)\", \n",
    "        end='',\n",
    "        flush=True\n",
    "    )\n",
    "\n",
    "tracker = WorkshopUtilities.bulk_create_resources(\n",
    "    client, \n",
    "    resources_data, \n",
    "    progress_callback\n",
    ")\n",
    "\n",
    "print(\"\\n\\nMigration complete!\")\n",
    "print(f\"Total time: {tracker.elapsed_time:.2f} seconds\")\n",
    "print(f\"Success rate: {(tracker.completed/tracker.total)*100:.1f}%\")"
   ]
  },
  {
   "cell_type": "code",
   "execution_count": null,
   "id": "ef7f22ed",
   "metadata": {},
   "outputs": [],
   "source": [
    "# Find Homer's resources\n",
    "print(\"\\nSearching for Homer's resources...\")\n",
    "homer_resources = WorkshopUtilities.find_resources_by_owner(client, \"Homer\")\n",
    "print(f\"Found {len(homer_resources)} resources owned by Homer\")"
   ]
  },
  {
   "cell_type": "code",
   "execution_count": null,
   "id": "11806e5c",
   "metadata": {},
   "outputs": [],
   "source": [
    "# Show breakdown by type\n",
    "resource_types = {}\n",
    "for resource in homer_resources:\n",
    "    resource_type = resource.type.split('/')[-1]\n",
    "    resource_types[resource_type] = resource_types.get(resource_type, 0) + 1\n",
    "\n",
    "print(\"\\nResource breakdown:\")\n",
    "for rtype, count in resource_types.items():\n",
    "    print(f\"  - {rtype}: {count}\")"
   ]
  },
  {
   "cell_type": "code",
   "execution_count": null,
   "id": "871ae40a",
   "metadata": {},
   "outputs": [],
   "source": [
    "# Transfer ownership\n",
    "print(\"\\nTransferring ownership to Marge...\")\n",
    "\n",
    "def progress_callback(tracker):\n",
    "    print(f\"\\rProgress: {tracker.percentage:.1f}% \"\n",
    "            f\"({tracker.completed}/{tracker.total})\", \n",
    "            end='', flush=True)\n",
    "\n",
    "result = WorkshopUtilities.transfer_ownership(\n",
    "    client,\n",
    "    from_owner=\"Homer\",\n",
    "    to_owner=\"Marge\",\n",
    "    progress_callback=progress_callback\n",
    ")\n",
    "\n",
    "print(\"\\n\\nTransfer complete!\")\n",
    "print(f\"  - Total resources: {result['total_resources']}\")\n",
    "print(f\"  - Successfully transferred: {result['successfully_transferred']}\")\n",
    "print(f\"  - Failed transfers: {result['failed_transfers']}\")\n",
    "print(f\"  - Duration: {result['duration_seconds']:.2f} seconds\")\n",
    "\n",
    "# Generate audit report\n",
    "print(\"\\nGenerating compliance report...\")\n",
    "report = WorkshopUtilities.generate_compliance_report(client)\n",
    "\n",
    "print(\"\\nPost-crisis ownership distribution:\")\n",
    "for owner, count in report['resources_by_owner'].items():\n",
    "    print(f\"  - {owner}: {count} resources\")"
   ]
  }
 ],
 "metadata": {
  "kernelspec": {
   "display_name": "Python 3",
   "language": "python",
   "name": "python3"
  },
  "language_info": {
   "codemirror_mode": {
    "name": "ipython",
    "version": 3
   },
   "file_extension": ".py",
   "mimetype": "text/x-python",
   "name": "python",
   "nbconvert_exporter": "python",
   "pygments_lexer": "ipython3",
   "version": "3.12.3"
  }
 },
 "nbformat": 4,
 "nbformat_minor": 5
}

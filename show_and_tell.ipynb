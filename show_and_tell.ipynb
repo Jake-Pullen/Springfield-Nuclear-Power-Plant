{
 "cells": [
  {
   "cell_type": "code",
   "execution_count": 1,
   "id": "8471f3eb",
   "metadata": {},
   "outputs": [],
   "source": [
    "import pandas as pd"
   ]
  },
  {
   "cell_type": "code",
   "execution_count": 23,
   "id": "2fe48029",
   "metadata": {},
   "outputs": [],
   "source": [
    "df = pd.read_csv(\"springfield_azure_resources.csv\")"
   ]
  },
  {
   "cell_type": "code",
   "execution_count": 24,
   "id": "07af4377",
   "metadata": {},
   "outputs": [],
   "source": [
    "columns = ['resource_name', 'resource_type', 'location', 'owner', 'environment', 'subscription_id', 'resource_group_name', 'resource_id', 'sku','migration_wave']\n",
    "\n",
    "df = df[columns]"
   ]
  },
  {
   "cell_type": "code",
   "execution_count": 25,
   "id": "7eb51842",
   "metadata": {},
   "outputs": [
    {
     "data": {
      "text/plain": [
       "owner\n",
       "Marge       715\n",
       "Homer       651\n",
       "Lisa        529\n",
       "Bart        213\n",
       "Ned         148\n",
       "Milhouse    132\n",
       "Apu         112\n",
       "Name: count, dtype: int64"
      ]
     },
     "execution_count": 25,
     "metadata": {},
     "output_type": "execute_result"
    }
   ],
   "source": [
    "df['owner'].value_counts()"
   ]
  },
  {
   "cell_type": "code",
   "execution_count": 26,
   "id": "49528610",
   "metadata": {},
   "outputs": [
    {
     "data": {
      "text/plain": [
       "environment\n",
       "test           235\n",
       "Dev            230\n",
       "STAGING        221\n",
       "staging        212\n",
       "uat            212\n",
       "production     211\n",
       "dev            210\n",
       "prod           204\n",
       "PROD           196\n",
       "qa             195\n",
       "Test           195\n",
       "development    179\n",
       "Name: count, dtype: int64"
      ]
     },
     "execution_count": 26,
     "metadata": {},
     "output_type": "execute_result"
    }
   ],
   "source": [
    "df['environment'].value_counts()"
   ]
  },
  {
   "cell_type": "code",
   "execution_count": 32,
   "id": "b8e85fcb",
   "metadata": {},
   "outputs": [
    {
     "data": {
      "text/plain": [
       "environment\n",
       "dev        619\n",
       "prod       611\n",
       "staging    433\n",
       "test       430\n",
       "uat        212\n",
       "qa         195\n",
       "Name: count, dtype: int64"
      ]
     },
     "execution_count": 32,
     "metadata": {},
     "output_type": "execute_result"
    }
   ],
   "source": [
    "df['environment'] = (\n",
    "    df['environment']\n",
    "    .apply(lambda x: x.lower().strip()[:3])\n",
    "    .apply(lambda x: {'pro':'prod', 'tes':'test', 'sta':'staging'}.get(x, x))\n",
    ")\n",
    "\n",
    "df['environment'].value_counts()"
   ]
  },
  {
   "cell_type": "code",
   "execution_count": 12,
   "id": "f2f127b7",
   "metadata": {},
   "outputs": [
    {
     "data": {
      "text/plain": [
       "migration_wave\n",
       "wave1     453\n",
       "WAVE 2    444\n",
       "Wave 4    419\n",
       "Wave 1    417\n",
       "Wave 2    408\n",
       "Wave 3    359\n",
       "Name: count, dtype: int64"
      ]
     },
     "execution_count": 12,
     "metadata": {},
     "output_type": "execute_result"
    }
   ],
   "source": [
    "df['migration_wave'].value_counts()"
   ]
  },
  {
   "cell_type": "code",
   "execution_count": 33,
   "id": "539dabf0",
   "metadata": {},
   "outputs": [
    {
     "data": {
      "text/plain": [
       "migration_wave\n",
       "wave1    870\n",
       "wave2    852\n",
       "wave4    419\n",
       "wave3    359\n",
       "Name: count, dtype: int64"
      ]
     },
     "execution_count": 33,
     "metadata": {},
     "output_type": "execute_result"
    }
   ],
   "source": [
    "df['migration_wave'] = df['migration_wave'].apply(lambda x: x.lower().replace(\" \", \"\"))\n",
    "df['migration_wave'].value_counts()"
   ]
  },
  {
   "cell_type": "code",
   "execution_count": 39,
   "id": "6bc87c1e",
   "metadata": {},
   "outputs": [
    {
     "name": "stdout",
     "output_type": "stream",
     "text": [
      "owner        Apu  Bart  Homer  Lisa  Marge  Milhouse  Ned\n",
      "environment                                              \n",
      "dev           27    50    169   118    184        27   44\n",
      "prod          24    49    170   130    169        33   36\n",
      "qa            11    18     45    42     57        13    9\n",
      "staging       28    35     98   103    130        20   19\n",
      "test          16    35    115    90    116        27   31\n",
      "uat            6    26     54    46     59        12    9\n"
     ]
    }
   ],
   "source": [
    "pivot = (\n",
    "    df\n",
    "    .groupby(['environment','owner'])\n",
    "    .size()\n",
    "    .unstack(fill_value=0)               # owners → columns, fill missing with zero\n",
    ")\n",
    "\n",
    "print(pivot)\n"
   ]
  },
  {
   "cell_type": "code",
   "execution_count": 40,
   "id": "76291069",
   "metadata": {},
   "outputs": [
    {
     "data": {
      "text/plain": [
       "MultiIndex([(    'dev',      'Apu'),\n",
       "            (    'dev',     'Bart'),\n",
       "            (    'dev',    'Homer'),\n",
       "            (    'dev',     'Lisa'),\n",
       "            (    'dev',    'Marge'),\n",
       "            (    'dev', 'Milhouse'),\n",
       "            (    'dev',      'Ned'),\n",
       "            (   'prod',      'Apu'),\n",
       "            (   'prod',     'Bart'),\n",
       "            (   'prod',    'Homer'),\n",
       "            (   'prod',     'Lisa'),\n",
       "            (   'prod',    'Marge'),\n",
       "            (   'prod', 'Milhouse'),\n",
       "            (   'prod',      'Ned'),\n",
       "            (     'qa',      'Apu'),\n",
       "            (     'qa',     'Bart'),\n",
       "            (     'qa',    'Homer'),\n",
       "            (     'qa',     'Lisa'),\n",
       "            (     'qa',    'Marge'),\n",
       "            (     'qa', 'Milhouse'),\n",
       "            (     'qa',      'Ned'),\n",
       "            ('staging',      'Apu'),\n",
       "            ('staging',     'Bart'),\n",
       "            ('staging',    'Homer'),\n",
       "            ('staging',     'Lisa'),\n",
       "            ('staging',    'Marge'),\n",
       "            ('staging', 'Milhouse'),\n",
       "            ('staging',      'Ned'),\n",
       "            (   'test',      'Apu'),\n",
       "            (   'test',     'Bart'),\n",
       "            (   'test',    'Homer'),\n",
       "            (   'test',     'Lisa'),\n",
       "            (   'test',    'Marge'),\n",
       "            (   'test', 'Milhouse'),\n",
       "            (   'test',      'Ned'),\n",
       "            (    'uat',      'Apu'),\n",
       "            (    'uat',     'Bart'),\n",
       "            (    'uat',    'Homer'),\n",
       "            (    'uat',     'Lisa'),\n",
       "            (    'uat',    'Marge'),\n",
       "            (    'uat', 'Milhouse'),\n",
       "            (    'uat',      'Ned')],\n",
       "           names=['environment', 'owner'])"
      ]
     },
     "execution_count": 40,
     "metadata": {},
     "output_type": "execute_result"
    }
   ],
   "source": [
    "df.groupby(['environment','owner']).size().index"
   ]
  },
  {
   "cell_type": "code",
   "execution_count": 41,
   "id": "f52a782e",
   "metadata": {},
   "outputs": [
    {
     "data": {
      "text/plain": [
       "Index(['dev', 'prod', 'qa', 'staging', 'test', 'uat'], dtype='object', name='environment')"
      ]
     },
     "execution_count": 41,
     "metadata": {},
     "output_type": "execute_result"
    }
   ],
   "source": [
    "df.groupby(['environment','owner']).size().unstack().index"
   ]
  },
  {
   "cell_type": "code",
   "execution_count": 42,
   "id": "64ca4276",
   "metadata": {},
   "outputs": [
    {
     "data": {
      "text/plain": [
       "Index(['Apu', 'Bart', 'Homer', 'Lisa', 'Marge', 'Milhouse', 'Ned'], dtype='object', name='owner')"
      ]
     },
     "execution_count": 42,
     "metadata": {},
     "output_type": "execute_result"
    }
   ],
   "source": [
    "df.groupby(['environment','owner']).size().unstack().columns"
   ]
  }
 ],
 "metadata": {
  "kernelspec": {
   "display_name": "Python 3",
   "language": "python",
   "name": "python3"
  },
  "language_info": {
   "codemirror_mode": {
    "name": "ipython",
    "version": 3
   },
   "file_extension": ".py",
   "mimetype": "text/x-python",
   "name": "python",
   "nbconvert_exporter": "python",
   "pygments_lexer": "ipython3",
   "version": "3.10.17"
  }
 },
 "nbformat": 4,
 "nbformat_minor": 5
}

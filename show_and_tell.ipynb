{
 "cells": [
  {
   "cell_type": "code",
   "execution_count": 63,
   "id": "8471f3eb",
   "metadata": {},
   "outputs": [],
   "source": [
    "import pandas as pd"
   ]
  },
  {
   "cell_type": "markdown",
   "id": "e3376884",
   "metadata": {},
   "source": [
    "# Phase 1: Data Discovery"
   ]
  },
  {
   "cell_type": "code",
   "execution_count": 64,
   "id": "2fe48029",
   "metadata": {},
   "outputs": [],
   "source": [
    "df = pd.read_csv(\"springfield_azure_resources.csv\")\n",
    "columns = ['resource_name', 'resource_type', 'location', 'owner', 'environment', 'subscription_id', 'resource_group_name', 'resource_id', 'sku','migration_wave']\n",
    "\n",
    "df = df[columns]"
   ]
  },
  {
   "cell_type": "code",
   "execution_count": 65,
   "id": "8bf59123",
   "metadata": {},
   "outputs": [
    {
     "data": {
      "text/html": [
       "<div>\n",
       "<style scoped>\n",
       "    .dataframe tbody tr th:only-of-type {\n",
       "        vertical-align: middle;\n",
       "    }\n",
       "\n",
       "    .dataframe tbody tr th {\n",
       "        vertical-align: top;\n",
       "    }\n",
       "\n",
       "    .dataframe thead th {\n",
       "        text-align: right;\n",
       "    }\n",
       "</style>\n",
       "<table border=\"1\" class=\"dataframe\">\n",
       "  <thead>\n",
       "    <tr style=\"text-align: right;\">\n",
       "      <th></th>\n",
       "      <th>resource_name</th>\n",
       "      <th>resource_type</th>\n",
       "      <th>location</th>\n",
       "      <th>owner</th>\n",
       "      <th>environment</th>\n",
       "      <th>subscription_id</th>\n",
       "      <th>resource_group_name</th>\n",
       "      <th>resource_id</th>\n",
       "      <th>sku</th>\n",
       "      <th>migration_wave</th>\n",
       "    </tr>\n",
       "  </thead>\n",
       "  <tbody>\n",
       "    <tr>\n",
       "      <th>0</th>\n",
       "      <td>sa-dev-purpose-251</td>\n",
       "      <td>Microsoft.Storage/storageAccounts</td>\n",
       "      <td>East US</td>\n",
       "      <td>Lisa</td>\n",
       "      <td>dev</td>\n",
       "      <td>c3d4e5f6-g7h8-9012-cdef-123456789012</td>\n",
       "      <td>Lisa-dev-rg</td>\n",
       "      <td>/subscriptions/c3d4e5f6-g7h8-9012-cdef-1234567...</td>\n",
       "      <td>Standard_LRS</td>\n",
       "      <td>wave1</td>\n",
       "    </tr>\n",
       "    <tr>\n",
       "      <th>1</th>\n",
       "      <td>robinsonplc-sql-95</td>\n",
       "      <td>Microsoft.Sql/servers</td>\n",
       "      <td>eastus</td>\n",
       "      <td>Milhouse</td>\n",
       "      <td>staging</td>\n",
       "      <td>b2c3d4e5-f6g7-8901-bcde-f12345678901</td>\n",
       "      <td>springfield-staging-resources</td>\n",
       "      <td>/subscriptions/b2c3d4e5-f6g7-8901-bcde-f123456...</td>\n",
       "      <td>Premium</td>\n",
       "      <td>WAVE 2</td>\n",
       "    </tr>\n",
       "    <tr>\n",
       "      <th>2</th>\n",
       "      <td>springfield-sa-rate-staging</td>\n",
       "      <td>Microsoft.Storage/storageAccounts</td>\n",
       "      <td>westus</td>\n",
       "      <td>Ned</td>\n",
       "      <td>staging</td>\n",
       "      <td>b2c3d4e5-f6g7-8901-bcde-f12345678901</td>\n",
       "      <td>RG-STAGING-NED</td>\n",
       "      <td>/subscriptions/b2c3d4e5-f6g7-8901-bcde-f123456...</td>\n",
       "      <td>Premium_LRS</td>\n",
       "      <td>WAVE 2</td>\n",
       "    </tr>\n",
       "    <tr>\n",
       "      <th>3</th>\n",
       "      <td>springfield-vnet-save-prod</td>\n",
       "      <td>Microsoft.Network/virtualNetworks</td>\n",
       "      <td>Springfield</td>\n",
       "      <td>Homer</td>\n",
       "      <td>prod</td>\n",
       "      <td>b2c3d4e5-f6g7-8901-bcde-f12345678901</td>\n",
       "      <td>Homer-prod-rg</td>\n",
       "      <td>/subscriptions/b2c3d4e5-f6g7-8901-bcde-f123456...</td>\n",
       "      <td>Basic</td>\n",
       "      <td>Wave 3</td>\n",
       "    </tr>\n",
       "    <tr>\n",
       "      <th>4</th>\n",
       "      <td>vm-prod-husband-164</td>\n",
       "      <td>Microsoft.Compute/virtualMachines</td>\n",
       "      <td>east-us</td>\n",
       "      <td>Homer</td>\n",
       "      <td>prod</td>\n",
       "      <td>c3d4e5f6-g7h8-9012-cdef-123456789012</td>\n",
       "      <td>Homer-prod-rg</td>\n",
       "      <td>/subscriptions/c3d4e5f6-g7h8-9012-cdef-1234567...</td>\n",
       "      <td>STANDARD_D2S_V3</td>\n",
       "      <td>Wave 2</td>\n",
       "    </tr>\n",
       "  </tbody>\n",
       "</table>\n",
       "</div>"
      ],
      "text/plain": [
       "                 resource_name                      resource_type  \\\n",
       "0           sa-dev-purpose-251  Microsoft.Storage/storageAccounts   \n",
       "1           robinsonplc-sql-95              Microsoft.Sql/servers   \n",
       "2  springfield-sa-rate-staging  Microsoft.Storage/storageAccounts   \n",
       "3   springfield-vnet-save-prod  Microsoft.Network/virtualNetworks   \n",
       "4          vm-prod-husband-164  Microsoft.Compute/virtualMachines   \n",
       "\n",
       "      location     owner environment                       subscription_id  \\\n",
       "0      East US      Lisa         dev  c3d4e5f6-g7h8-9012-cdef-123456789012   \n",
       "1       eastus  Milhouse     staging  b2c3d4e5-f6g7-8901-bcde-f12345678901   \n",
       "2       westus       Ned     staging  b2c3d4e5-f6g7-8901-bcde-f12345678901   \n",
       "3  Springfield     Homer        prod  b2c3d4e5-f6g7-8901-bcde-f12345678901   \n",
       "4      east-us     Homer        prod  c3d4e5f6-g7h8-9012-cdef-123456789012   \n",
       "\n",
       "             resource_group_name  \\\n",
       "0                    Lisa-dev-rg   \n",
       "1  springfield-staging-resources   \n",
       "2                 RG-STAGING-NED   \n",
       "3                  Homer-prod-rg   \n",
       "4                  Homer-prod-rg   \n",
       "\n",
       "                                         resource_id              sku  \\\n",
       "0  /subscriptions/c3d4e5f6-g7h8-9012-cdef-1234567...     Standard_LRS   \n",
       "1  /subscriptions/b2c3d4e5-f6g7-8901-bcde-f123456...          Premium   \n",
       "2  /subscriptions/b2c3d4e5-f6g7-8901-bcde-f123456...      Premium_LRS   \n",
       "3  /subscriptions/b2c3d4e5-f6g7-8901-bcde-f123456...            Basic   \n",
       "4  /subscriptions/c3d4e5f6-g7h8-9012-cdef-1234567...  STANDARD_D2S_V3   \n",
       "\n",
       "  migration_wave  \n",
       "0          wave1  \n",
       "1         WAVE 2  \n",
       "2         WAVE 2  \n",
       "3         Wave 3  \n",
       "4         Wave 2  "
      ]
     },
     "execution_count": 65,
     "metadata": {},
     "output_type": "execute_result"
    }
   ],
   "source": [
    "df.head()"
   ]
  },
  {
   "cell_type": "code",
   "execution_count": 66,
   "id": "3923107e",
   "metadata": {},
   "outputs": [
    {
     "data": {
      "text/html": [
       "<div>\n",
       "<style scoped>\n",
       "    .dataframe tbody tr th:only-of-type {\n",
       "        vertical-align: middle;\n",
       "    }\n",
       "\n",
       "    .dataframe tbody tr th {\n",
       "        vertical-align: top;\n",
       "    }\n",
       "\n",
       "    .dataframe thead th {\n",
       "        text-align: right;\n",
       "    }\n",
       "</style>\n",
       "<table border=\"1\" class=\"dataframe\">\n",
       "  <thead>\n",
       "    <tr style=\"text-align: right;\">\n",
       "      <th></th>\n",
       "      <th>resource_name</th>\n",
       "      <th>resource_type</th>\n",
       "      <th>location</th>\n",
       "      <th>owner</th>\n",
       "      <th>environment</th>\n",
       "      <th>subscription_id</th>\n",
       "      <th>resource_group_name</th>\n",
       "      <th>resource_id</th>\n",
       "      <th>sku</th>\n",
       "      <th>migration_wave</th>\n",
       "    </tr>\n",
       "  </thead>\n",
       "  <tbody>\n",
       "    <tr>\n",
       "      <th>count</th>\n",
       "      <td>2500</td>\n",
       "      <td>2500</td>\n",
       "      <td>2500</td>\n",
       "      <td>2500</td>\n",
       "      <td>2500</td>\n",
       "      <td>2500</td>\n",
       "      <td>2500</td>\n",
       "      <td>2500</td>\n",
       "      <td>2500</td>\n",
       "      <td>2500</td>\n",
       "    </tr>\n",
       "    <tr>\n",
       "      <th>unique</th>\n",
       "      <td>2497</td>\n",
       "      <td>10</td>\n",
       "      <td>9</td>\n",
       "      <td>7</td>\n",
       "      <td>12</td>\n",
       "      <td>3</td>\n",
       "      <td>716</td>\n",
       "      <td>2500</td>\n",
       "      <td>16</td>\n",
       "      <td>6</td>\n",
       "    </tr>\n",
       "    <tr>\n",
       "      <th>top</th>\n",
       "      <td>springfield-nsg-radio-STAGING</td>\n",
       "      <td>Microsoft.Network/networkSecurityGroups</td>\n",
       "      <td>westus</td>\n",
       "      <td>Marge</td>\n",
       "      <td>test</td>\n",
       "      <td>b2c3d4e5-f6g7-8901-bcde-f12345678901</td>\n",
       "      <td>springfield-STAGING-resources</td>\n",
       "      <td>/subscriptions/b2c3d4e5-f6g7-8901-bcde-f123456...</td>\n",
       "      <td>Premium</td>\n",
       "      <td>wave1</td>\n",
       "    </tr>\n",
       "    <tr>\n",
       "      <th>freq</th>\n",
       "      <td>2</td>\n",
       "      <td>294</td>\n",
       "      <td>314</td>\n",
       "      <td>715</td>\n",
       "      <td>235</td>\n",
       "      <td>840</td>\n",
       "      <td>48</td>\n",
       "      <td>1</td>\n",
       "      <td>660</td>\n",
       "      <td>453</td>\n",
       "    </tr>\n",
       "  </tbody>\n",
       "</table>\n",
       "</div>"
      ],
      "text/plain": [
       "                        resource_name  \\\n",
       "count                            2500   \n",
       "unique                           2497   \n",
       "top     springfield-nsg-radio-STAGING   \n",
       "freq                                2   \n",
       "\n",
       "                                  resource_type location  owner environment  \\\n",
       "count                                      2500     2500   2500        2500   \n",
       "unique                                       10        9      7          12   \n",
       "top     Microsoft.Network/networkSecurityGroups   westus  Marge        test   \n",
       "freq                                        294      314    715         235   \n",
       "\n",
       "                             subscription_id            resource_group_name  \\\n",
       "count                                   2500                           2500   \n",
       "unique                                     3                            716   \n",
       "top     b2c3d4e5-f6g7-8901-bcde-f12345678901  springfield-STAGING-resources   \n",
       "freq                                     840                             48   \n",
       "\n",
       "                                              resource_id      sku  \\\n",
       "count                                                2500     2500   \n",
       "unique                                               2500       16   \n",
       "top     /subscriptions/b2c3d4e5-f6g7-8901-bcde-f123456...  Premium   \n",
       "freq                                                    1      660   \n",
       "\n",
       "       migration_wave  \n",
       "count            2500  \n",
       "unique              6  \n",
       "top             wave1  \n",
       "freq              453  "
      ]
     },
     "execution_count": 66,
     "metadata": {},
     "output_type": "execute_result"
    }
   ],
   "source": [
    "df.describe()"
   ]
  },
  {
   "cell_type": "markdown",
   "id": "07af4377",
   "metadata": {},
   "source": [
    "# Phase 2: Data Cleansing"
   ]
  },
  {
   "cell_type": "markdown",
   "id": "46ebd9c6",
   "metadata": {},
   "source": [
    "## Evaluate Owners"
   ]
  },
  {
   "cell_type": "code",
   "execution_count": 67,
   "id": "7eb51842",
   "metadata": {},
   "outputs": [
    {
     "data": {
      "text/plain": [
       "owner\n",
       "Marge       715\n",
       "Homer       651\n",
       "Lisa        529\n",
       "Bart        213\n",
       "Ned         148\n",
       "Milhouse    132\n",
       "Apu         112\n",
       "Name: count, dtype: int64"
      ]
     },
     "execution_count": 67,
     "metadata": {},
     "output_type": "execute_result"
    }
   ],
   "source": [
    "df['owner'].value_counts()"
   ]
  },
  {
   "cell_type": "markdown",
   "id": "caf6295f",
   "metadata": {},
   "source": [
    "## Check environments"
   ]
  },
  {
   "cell_type": "code",
   "execution_count": 68,
   "id": "49528610",
   "metadata": {},
   "outputs": [
    {
     "data": {
      "text/plain": [
       "environment\n",
       "test           235\n",
       "Dev            230\n",
       "STAGING        221\n",
       "staging        212\n",
       "uat            212\n",
       "production     211\n",
       "dev            210\n",
       "prod           204\n",
       "PROD           196\n",
       "qa             195\n",
       "Test           195\n",
       "development    179\n",
       "Name: count, dtype: int64"
      ]
     },
     "execution_count": 68,
     "metadata": {},
     "output_type": "execute_result"
    }
   ],
   "source": [
    "df['environment'].value_counts()"
   ]
  },
  {
   "cell_type": "code",
   "execution_count": 69,
   "id": "b8e85fcb",
   "metadata": {},
   "outputs": [
    {
     "data": {
      "text/plain": [
       "environment\n",
       "dev     619\n",
       "prod    611\n",
       "test    430\n",
       "Name: count, dtype: int64"
      ]
     },
     "execution_count": 69,
     "metadata": {},
     "output_type": "execute_result"
    }
   ],
   "source": [
    "df['environment'] = (\n",
    "    df['environment']\n",
    "    .apply(lambda x: x.lower().strip()[:3])\n",
    "    .apply(lambda x: {'pro':'prod', 'tes':'test', 'sta':'staging'}.get(x, x))\n",
    ")\n",
    "\n",
    "df = df.loc[df['environment'].isin(['dev', 'prod', 'test'])]\n",
    "\n",
    "\n",
    "df['environment'].value_counts()"
   ]
  },
  {
   "cell_type": "markdown",
   "id": "88fd15f0",
   "metadata": {},
   "source": [
    "## Check Locations"
   ]
  },
  {
   "cell_type": "code",
   "execution_count": 70,
   "id": "770b2aee",
   "metadata": {},
   "outputs": [
    {
     "data": {
      "text/plain": [
       "location\n",
       "westus         213\n",
       "eastus         193\n",
       "east-us        189\n",
       "Springfield    188\n",
       "uksouth        187\n",
       "uk-south       184\n",
       "East US        176\n",
       "Shelbyville    165\n",
       "UK South       165\n",
       "Name: count, dtype: int64"
      ]
     },
     "execution_count": 70,
     "metadata": {},
     "output_type": "execute_result"
    }
   ],
   "source": [
    "df['location'].value_counts()"
   ]
  },
  {
   "cell_type": "code",
   "execution_count": 71,
   "id": "9cd706c6",
   "metadata": {},
   "outputs": [
    {
     "data": {
      "text/plain": [
       "location\n",
       "eastus         558\n",
       "uksouth        536\n",
       "westus         213\n",
       "springfield    188\n",
       "shelbyville    165\n",
       "Name: count, dtype: int64"
      ]
     },
     "execution_count": 71,
     "metadata": {},
     "output_type": "execute_result"
    }
   ],
   "source": [
    "df['location'] = df['location'].apply(lambda x: x.lower().strip().replace(\" \", \"\").replace(\"-\", \"\"))\n",
    "df['location'].value_counts()"
   ]
  },
  {
   "cell_type": "markdown",
   "id": "23449a96",
   "metadata": {},
   "source": [
    "## Wrangle migration wave"
   ]
  },
  {
   "cell_type": "code",
   "execution_count": 72,
   "id": "f2f127b7",
   "metadata": {},
   "outputs": [
    {
     "data": {
      "text/plain": [
       "migration_wave\n",
       "wave1     312\n",
       "Wave 1    293\n",
       "WAVE 2    282\n",
       "Wave 2    275\n",
       "Wave 4    268\n",
       "Wave 3    230\n",
       "Name: count, dtype: int64"
      ]
     },
     "execution_count": 72,
     "metadata": {},
     "output_type": "execute_result"
    }
   ],
   "source": [
    "df['migration_wave'].value_counts()"
   ]
  },
  {
   "cell_type": "code",
   "execution_count": 73,
   "id": "539dabf0",
   "metadata": {},
   "outputs": [
    {
     "data": {
      "text/plain": [
       "migration_wave\n",
       "1    605\n",
       "2    557\n",
       "4    268\n",
       "3    230\n",
       "Name: count, dtype: int64"
      ]
     },
     "execution_count": 73,
     "metadata": {},
     "output_type": "execute_result"
    }
   ],
   "source": [
    "df['migration_wave'] = df['migration_wave'].apply(lambda x: x.lower().replace(\" \", \"\").replace(\"wave\",\"\")).astype(int)\n",
    "df['migration_wave'].value_counts()"
   ]
  },
  {
   "cell_type": "markdown",
   "id": "426481e4",
   "metadata": {},
   "source": [
    "## Business Rule 1: All locations must be 'uksouth'"
   ]
  },
  {
   "cell_type": "code",
   "execution_count": 74,
   "id": "5ca1b7ab",
   "metadata": {},
   "outputs": [
    {
     "data": {
      "text/plain": [
       "location\n",
       "eastus         558\n",
       "uksouth        536\n",
       "westus         213\n",
       "springfield    188\n",
       "shelbyville    165\n",
       "Name: count, dtype: int64"
      ]
     },
     "execution_count": 74,
     "metadata": {},
     "output_type": "execute_result"
    }
   ],
   "source": [
    "df['location'].value_counts()"
   ]
  },
  {
   "cell_type": "code",
   "execution_count": 75,
   "id": "e0b615f4",
   "metadata": {},
   "outputs": [],
   "source": [
    "df['location'] = 'uksouth'"
   ]
  },
  {
   "cell_type": "code",
   "execution_count": 82,
   "id": "67126968",
   "metadata": {},
   "outputs": [
    {
     "data": {
      "text/plain": [
       "location\n",
       "uksouth    1660\n",
       "Name: count, dtype: int64"
      ]
     },
     "execution_count": 82,
     "metadata": {},
     "output_type": "execute_result"
    }
   ],
   "source": [
    "df['location'].value_counts()"
   ]
  },
  {
   "cell_type": "markdown",
   "id": "d681d146",
   "metadata": {},
   "source": [
    "## Business Rule 2:"
   ]
  },
  {
   "cell_type": "markdown",
   "id": "71b98b66",
   "metadata": {},
   "source": [
    "### Data Discovery"
   ]
  },
  {
   "cell_type": "code",
   "execution_count": 76,
   "id": "6bc87c1e",
   "metadata": {},
   "outputs": [
    {
     "name": "stdout",
     "output_type": "stream",
     "text": [
      "owner        Apu  Bart  Homer  Lisa  Marge  Milhouse  Ned\n",
      "environment                                              \n",
      "dev           27    50    169   118    184        27   44\n",
      "prod          24    49    170   130    169        33   36\n",
      "test          16    35    115    90    116        27   31\n"
     ]
    }
   ],
   "source": [
    "pivot = (\n",
    "    df\n",
    "    .groupby(['environment','owner'])\n",
    "    .size()\n",
    "    .unstack(fill_value=0)               # owners → columns, fill missing with zero\n",
    ")\n",
    "\n",
    "print(pivot)\n"
   ]
  },
  {
   "cell_type": "code",
   "execution_count": 77,
   "id": "76291069",
   "metadata": {},
   "outputs": [
    {
     "data": {
      "text/plain": [
       "MultiIndex([( 'dev',      'Apu'),\n",
       "            ( 'dev',     'Bart'),\n",
       "            ( 'dev',    'Homer'),\n",
       "            ( 'dev',     'Lisa'),\n",
       "            ( 'dev',    'Marge'),\n",
       "            ( 'dev', 'Milhouse'),\n",
       "            ( 'dev',      'Ned'),\n",
       "            ('prod',      'Apu'),\n",
       "            ('prod',     'Bart'),\n",
       "            ('prod',    'Homer'),\n",
       "            ('prod',     'Lisa'),\n",
       "            ('prod',    'Marge'),\n",
       "            ('prod', 'Milhouse'),\n",
       "            ('prod',      'Ned'),\n",
       "            ('test',      'Apu'),\n",
       "            ('test',     'Bart'),\n",
       "            ('test',    'Homer'),\n",
       "            ('test',     'Lisa'),\n",
       "            ('test',    'Marge'),\n",
       "            ('test', 'Milhouse'),\n",
       "            ('test',      'Ned')],\n",
       "           names=['environment', 'owner'])"
      ]
     },
     "execution_count": 77,
     "metadata": {},
     "output_type": "execute_result"
    }
   ],
   "source": [
    "df.groupby(['environment','owner']).size().index"
   ]
  },
  {
   "cell_type": "code",
   "execution_count": 78,
   "id": "f52a782e",
   "metadata": {},
   "outputs": [
    {
     "data": {
      "text/plain": [
       "Index(['dev', 'prod', 'test'], dtype='object', name='environment')"
      ]
     },
     "execution_count": 78,
     "metadata": {},
     "output_type": "execute_result"
    }
   ],
   "source": [
    "df.groupby(['environment','owner']).size().unstack().index"
   ]
  },
  {
   "cell_type": "code",
   "execution_count": 79,
   "id": "64ca4276",
   "metadata": {},
   "outputs": [
    {
     "data": {
      "text/plain": [
       "Index(['Apu', 'Bart', 'Homer', 'Lisa', 'Marge', 'Milhouse', 'Ned'], dtype='object', name='owner')"
      ]
     },
     "execution_count": 79,
     "metadata": {},
     "output_type": "execute_result"
    }
   ],
   "source": [
    "df.groupby(['environment','owner']).size().unstack().columns"
   ]
  },
  {
   "cell_type": "markdown",
   "id": "3030b306",
   "metadata": {},
   "source": [
    "### Implementation"
   ]
  },
  {
   "cell_type": "code",
   "execution_count": 81,
   "id": "27523319",
   "metadata": {},
   "outputs": [],
   "source": [
    "df['owner'] = df['owner'].apply(lambda x: {'Apu':'Marge', 'Milhouse':'Lisa', 'Ned':'Homer', 'Bart':'Homer'}.get(x, x))"
   ]
  },
  {
   "cell_type": "code",
   "execution_count": 83,
   "id": "7e9173fc",
   "metadata": {},
   "outputs": [
    {
     "name": "stdout",
     "output_type": "stream",
     "text": [
      "owner        Homer  Lisa  Marge\n",
      "environment                    \n",
      "dev            263   145    211\n",
      "prod           255   163    193\n",
      "test           181   117    132\n"
     ]
    }
   ],
   "source": [
    "pivot = (\n",
    "    df\n",
    "    .groupby(['environment','owner'])\n",
    "    .size()\n",
    "    .unstack(fill_value=0)               # owners → columns, fill missing with zero\n",
    ")\n",
    "\n",
    "print(pivot)\n"
   ]
  }
 ],
 "metadata": {
  "kernelspec": {
   "display_name": "Python 3",
   "language": "python",
   "name": "python3"
  },
  "language_info": {
   "codemirror_mode": {
    "name": "ipython",
    "version": 3
   },
   "file_extension": ".py",
   "mimetype": "text/x-python",
   "name": "python",
   "nbconvert_exporter": "python",
   "pygments_lexer": "ipython3",
   "version": "3.10.17"
  }
 },
 "nbformat": 4,
 "nbformat_minor": 5
}
